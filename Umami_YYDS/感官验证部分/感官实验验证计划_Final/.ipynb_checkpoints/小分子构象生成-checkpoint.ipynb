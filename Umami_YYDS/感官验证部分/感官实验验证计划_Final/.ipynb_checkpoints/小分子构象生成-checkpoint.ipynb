{
 "cells": [
  {
   "cell_type": "code",
   "execution_count": 1,
   "id": "4b01394d",
   "metadata": {},
   "outputs": [],
   "source": [
    "from rdkit import Chem\n",
    "from rdkit.Chem import Draw\n",
    "import pandas as pd\n",
    "import numpy as np\n",
    "import tqdm\n"
   ]
  },
  {
   "cell_type": "code",
   "execution_count": 2,
   "id": "2283ba5b",
   "metadata": {},
   "outputs": [
    {
     "name": "stderr",
     "output_type": "stream",
     "text": [
      "100%|████████████████████████████████████████████████████████████████████████████████████| 6/6 [00:00<00:00, 21.22it/s]\n"
     ]
    }
   ],
   "source": [
    "df_tmp = pd.read_csv(\"mole.csv\")\n",
    "for index in tqdm.tqdm(range(df_tmp.shape[0])):\n",
    "    mols = []\n",
    "    mol = Chem.MolFromFASTA(df_tmp[\"Fastaname\"].iloc[index])\n",
    "    mols.append(mol)\n",
    "    img = Draw.MolsToGridImage(mols,1,molsPerRow = 1,subImgSize=(600, 600),returnPNG=False) \n",
    "    name_fig = df_tmp[\"Fastaname\"].iloc[index]+\".png\"\n",
    "    img.save(name_fig)"
   ]
  },
  {
   "cell_type": "code",
   "execution_count": null,
   "id": "24182846",
   "metadata": {},
   "outputs": [],
   "source": []
  }
 ],
 "metadata": {
  "kernelspec": {
   "display_name": "Python3.6",
   "language": "python",
   "name": "p3.6"
  },
  "language_info": {
   "codemirror_mode": {
    "name": "ipython",
    "version": 3
   },
   "file_extension": ".py",
   "mimetype": "text/x-python",
   "name": "python",
   "nbconvert_exporter": "python",
   "pygments_lexer": "ipython3",
   "version": "3.6.7"
  },
  "toc": {
   "base_numbering": 1,
   "nav_menu": {},
   "number_sections": true,
   "sideBar": true,
   "skip_h1_title": false,
   "title_cell": "Table of Contents",
   "title_sidebar": "Contents",
   "toc_cell": false,
   "toc_position": {},
   "toc_section_display": true,
   "toc_window_display": false
  }
 },
 "nbformat": 4,
 "nbformat_minor": 5
}
