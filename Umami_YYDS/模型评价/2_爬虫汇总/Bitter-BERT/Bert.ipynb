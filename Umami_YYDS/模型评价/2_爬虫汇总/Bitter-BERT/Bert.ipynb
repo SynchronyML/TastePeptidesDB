{
 "cells": [
  {
   "cell_type": "code",
   "execution_count": 2,
   "id": "883d0d02",
   "metadata": {},
   "outputs": [
    {
     "name": "stdout",
     "output_type": "stream",
     "text": [
      "437\n",
      "over!\n"
     ]
    }
   ],
   "source": [
    "import requests\n",
    "import os,sys\n",
    "import re\n",
    "import csv\n",
    "import xlwt\n",
    "url = \"http://pmlab.pythonanywhere.com/bitterbertpredict\"\n",
    "PATH = os.getcwd()\n",
    "files = {'file': open(PATH+'\\\\tect.csv', 'rb')}  #路径要修改\n",
    "def data_submit(f):\n",
    "    r = requests.post(url, files=f)\n",
    "    # print(r.text)\n",
    "    s = re.findall('Test is (.*?)\\(',r.text)\n",
    "    # print('s=',s)\n",
    "    r.close()\n",
    "    return s\n",
    "\n",
    "workbook=xlwt.Workbook(encoding='utf-8')\n",
    "sheet1=workbook.add_sheet('sheet1')\n",
    "# f2=open('result.xlsx',mode='r')\n",
    "f1=open(PATH+'\\\\wait_r.csv','rt')    #路径要修改\n",
    "list=[]\n",
    "reader = csv.reader(f1)\n",
    "for row in reader:\n",
    "    list.append(row[0])\n",
    "# print(len(list))\n",
    "b=[]\n",
    "for i in data_submit(files):\n",
    "    b.append(i)\n",
    "print(len(b))\n",
    "for i in range(437):    #数据长度\n",
    "    for j in range(2):\n",
    "        if j%2==0:\n",
    "            sheet1.write(i,j,'{}'.format(list[i]))\n",
    "        else:\n",
    "            sheet1.write(i, j,'{}'.format( b[i]))\n",
    "workbook.save('result_Bert.xls')\n",
    "\n",
    "f1.close()\n",
    "print('over!')\n"
   ]
  },
  {
   "cell_type": "code",
   "execution_count": 1,
   "id": "53817372",
   "metadata": {},
   "outputs": [
    {
     "name": "stdout",
     "output_type": "stream",
     "text": [
      "437\n",
      "over!\n"
     ]
    }
   ],
   "source": [
    "import requests\n",
    "import os,sys\n",
    "import re\n",
    "import csv\n",
    "import xlwt\n",
    "url = \"http://pmlab.pythonanywhere.com/bitterbertpredict\"\n",
    "PATH = os.getcwd()\n",
    "files = {'file': open(PATH+'\\\\tect.csv', 'rb')}  #路径要修改\n",
    "def data_submit(f):\n",
    "    r = requests.post(url, files=f)\n",
    "    # print(r.text)\n",
    "    s = re.findall('Test is (.*?)\\(',r.text)\n",
    "    # print('s=',s)\n",
    "    r.close()\n",
    "    return s\n",
    "\n",
    "workbook=xlwt.Workbook(encoding='utf-8')\n",
    "sheet1=workbook.add_sheet('sheet1')\n",
    "# f2=open('result.xlsx',mode='r')\n",
    "f1=open(PATH+'\\\\wait_r.csv','rt')    #路径要修改\n",
    "list=[]\n",
    "reader = csv.reader(f1)\n",
    "for row in reader:\n",
    "    list.append(row[0])\n",
    "# print(len(list))\n",
    "b=[]\n",
    "for i in data_submit(files):\n",
    "    b.append(i)\n",
    "print(len(b))\n",
    "for i in range(437):    #数据长度\n",
    "    for j in range(2):\n",
    "        if j%2==0:\n",
    "            sheet1.write(i,j,'{}'.format(list[i]))\n",
    "        else:\n",
    "            sheet1.write(i, j,'{}'.format( b[i]))\n",
    "workbook.save('result_Bert_new.xls')\n",
    "\n",
    "f1.close()\n",
    "print('over!')\n"
   ]
  },
  {
   "cell_type": "code",
   "execution_count": null,
   "id": "dd915ec2",
   "metadata": {},
   "outputs": [],
   "source": []
  },
  {
   "cell_type": "code",
   "execution_count": null,
   "id": "7aa68668",
   "metadata": {},
   "outputs": [],
   "source": []
  }
 ],
 "metadata": {
  "kernelspec": {
   "display_name": "Python 3 (ipykernel)",
   "language": "python",
   "name": "python3"
  },
  "language_info": {
   "codemirror_mode": {
    "name": "ipython",
    "version": 3
   },
   "file_extension": ".py",
   "mimetype": "text/x-python",
   "name": "python",
   "nbconvert_exporter": "python",
   "pygments_lexer": "ipython3",
   "version": "3.8.10"
  },
  "toc": {
   "base_numbering": 1,
   "nav_menu": {},
   "number_sections": true,
   "sideBar": true,
   "skip_h1_title": false,
   "title_cell": "Table of Contents",
   "title_sidebar": "Contents",
   "toc_cell": false,
   "toc_position": {},
   "toc_section_display": true,
   "toc_window_display": false
  }
 },
 "nbformat": 4,
 "nbformat_minor": 5
}
